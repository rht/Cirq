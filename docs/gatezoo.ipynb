{
 "cells": [
  {
   "cell_type": "code",
   "execution_count": null,
   "id": "2e694355-6c8f-43c5-b1ae-4e86af9fc9eb",
   "metadata": {
    "cellView": "form",
    "id": "KQa9t_gadIuR"
   },
   "outputs": [],
   "source": [
    "#@title Copyright 2022 The Cirq Developers\n",
    "# Licensed under the Apache License, Version 2.0 (the \"License\");\n",
    "# you may not use this file except in compliance with the License.\n",
    "# You may obtain a copy of the License at\n",
    "#\n",
    "# https://www.apache.org/licenses/LICENSE-2.0\n",
    "#\n",
    "# Unless required by applicable law or agreed to in writing, software\n",
    "# distributed under the License is distributed on an \"AS IS\" BASIS,\n",
    "# WITHOUT WARRANTIES OR CONDITIONS OF ANY KIND, either express or implied.\n",
    "# See the License for the specific language governing permissions and\n",
    "# limitations under the License."
   ]
  },
  {
   "cell_type": "markdown",
   "id": "42a837dc-73a7-4a4e-a79b-563786f1bfc6",
   "metadata": {
    "id": "xwec7FrkdFmi"
   },
   "source": [
    "# Gate Zoo"
   ]
  },
  {
   "cell_type": "markdown",
   "id": "1ffc5e6a-50af-495e-b713-ad7c626a6181",
   "metadata": {
    "id": "5KZia7jmdJ3V"
   },
   "source": [
    "<table class=\"tfo-notebook-buttons\" align=\"left\">\n",
    "  <td>\n",
    "    <a target=\"_blank\" href=\"https://quantumai.google/cirq/gatezoo.ipynb\"><img src=\"https://quantumai.google/site-assets/images/buttons/quantumai_logo_1x.png\" />View on QuantumAI</a>\n",
    "  </td>\n",
    "  <td>\n",
    "    <a target=\"_blank\" href=\"https://colab.research.google.com/github/quantumlib/Cirq/blob/master/docs/gatezoo.ipynb\"><img src=\"https://quantumai.google/site-assets/images/buttons/colab_logo_1x.png\" />Run in Google Colab</a>\n",
    "  </td>\n",
    "  <td>\n",
    "    <a target=\"_blank\" href=\"https://github.com/quantumlib/Cirq/blob/master/docs/gatezoo.ipynbb\"><img src=\"https://quantumai.google/site-assets/images/buttons/github_logo_1x.png\" />View source on GitHub</a>\n",
    "  </td>\n",
    "  <td>\n",
    "    <a href=\"https://storage.googleapis.com/tensorflow_docs/Cirq/docs/gatezoo.ipynb\"><img src=\"https://quantumai.google/site-assets/images/buttons/download_icon_1x.png\" />Download notebook</a>\n",
    "  </td>\n",
    "</table>"
   ]
  },
  {
   "cell_type": "markdown",
   "id": "bb448db9-c75a-44e1-900c-532101085565",
   "metadata": {
    "id": "541571c2edcd"
   },
   "source": [
    "## Setup\n",
    "Note: this notebook relies on unreleased Cirq features. If you want to try these features, make sure you install cirq via `pip install cirq --pre`"
   ]
  },
  {
   "cell_type": "code",
   "execution_count": null,
   "id": "0b650764-128c-46fe-8b19-ee54762a77ef",
   "metadata": {
    "id": "bd9529db1c0b"
   },
   "outputs": [],
   "source": [
    "try:\n",
    "    import cirq\n",
    "except ImportError:\n",
    "    print(\"installing cirq...\")\n",
    "    !pip install --quiet --pre cirq\n",
    "    print(\"installed cirq.\")\n",
    "    \n",
    "import IPython.display as ipd\n",
    "import cirq\n",
    "import inspect\n",
    "\n",
    "def display_gates(*gates):\n",
    "    for gate_name in gates:\n",
    "        ipd.display(ipd.Markdown(\"---\"))\n",
    "        gate = getattr(cirq, gate_name)\n",
    "        ipd.display(ipd.Markdown(f\"#### cirq.{gate_name}\"))\n",
    "        ipd.display(ipd.Markdown(inspect.cleandoc(gate.__doc__)))\n",
    "    else:\n",
    "        ipd.display(ipd.Markdown(\"---\"))    "
   ]
  },
  {
   "cell_type": "markdown",
   "id": "5731f798-b633-4039-a138-8c70b4d8fac4",
   "metadata": {
    "id": "1cd004cc2f3a"
   },
   "source": [
    "Cirq comes with many gates that are standard across quantum computing. This notebook serves as a reference sheet for these gates.\n",
    "\n",
    "## Single Qubit Gates\n",
    "\n",
    "\n",
    "### Gate constants \n",
    "\n",
    "Cirq defines constants which are gate instances for particular important single qubit gates."
   ]
  },
  {
   "cell_type": "code",
   "execution_count": null,
   "id": "6cb68f8a-4285-42ba-9a0f-b73bf13cd4f1",
   "metadata": {
    "id": "0c3a029e2155"
   },
   "outputs": [],
   "source": [
    "display_gates(\"X\", \"Y\", \"Z\", \"H\", \"S\", \"T\")"
   ]
  },
  {
   "cell_type": "markdown",
   "id": "d65a3acf-4446-4d7b-9077-39cd0b1095b6",
   "metadata": {
    "id": "10c855370f45"
   },
   "source": [
    "### Traditional Pauli Rotation Gates\n",
    "\n",
    "Traditional single qubit rotations expressed in radians of rotation about Pauli axis are defined."
   ]
  },
  {
   "cell_type": "code",
   "execution_count": null,
   "id": "e5d38c50-1774-4acf-b22c-47cd103c8a8d",
   "metadata": {
    "id": "e96e1c459258"
   },
   "outputs": [],
   "source": [
    "display_gates(\"Rx\", \"Ry\", \"Rz\")"
   ]
  },
  {
   "cell_type": "markdown",
   "id": "9a7fec58-bbe6-4ec7-8158-5afe735ea7e2",
   "metadata": {
    "id": "4bfc17ef80bb"
   },
   "source": [
    "### Pauli PowGates\n",
    "\n",
    "If you think of the `cirq.Z` gate as phasing the state $|1\\rangle$ by $-1$, then you might think that the square root of this gate phases the state $|1\\rangle$ by $i=\\sqrt{-1}$.  The `XPowGate`, `YPowGate` and `ZPowGate`s all act in this manner, phasing the state corresponding to their $-1$ eigenvalue by a prescribed amount.  This ends up being the same as the `Rx`, `Ry`, and `Rz` up to a global phase."
   ]
  },
  {
   "cell_type": "code",
   "execution_count": null,
   "id": "e478b06c-3a62-4b6c-a614-12dc25182304",
   "metadata": {
    "id": "0e2ea8a0a0ae"
   },
   "outputs": [],
   "source": [
    "display_gates(\"XPowGate\", \"YPowGate\", \"ZPowGate\")"
   ]
  },
  {
   "cell_type": "markdown",
   "id": "110838d7-5a53-4b53-aeea-4496549e8e1f",
   "metadata": {
    "id": "6631a361ac42"
   },
   "source": [
    "### More Single Qubit Gate\n",
    "\n",
    "Many quantum computing implementations use qubits whose energy eigenstates for a qubit that is not interacting are the computational basis states. In these cases it is often useful to move `cirq.ZPowGate`'s through other single qubit gates, \"phasing\" the "
   ]
  },
  {
   "cell_type": "code",
   "execution_count": null,
   "id": "7a560cfb-6d7b-4837-85d1-6aa96accc264",
   "metadata": {
    "id": "b5ffeefa3c76"
   },
   "outputs": [],
   "source": [
    "display_gates(\"PhasedXPowGate\", \"PhasedXZGate\", \"HPowGate\")"
   ]
  }
 ],
 "metadata": {
  "colab": {
   "name": "gatezoo.ipynb",
   "toc_visible": true
  },
  "kernelspec": {
   "display_name": "Python 3",
   "name": "python3"
  }
 },
 "nbformat": 4,
 "nbformat_minor": 0
}
