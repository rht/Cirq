{
 "cells": [
  {
   "cell_type": "markdown",
   "metadata": {
    "id": "6HTRLzyWW5Q1"
   },
   "source": [
    "##### Copyright 2021 The Cirq Developers"
   ]
  },
  {
   "cell_type": "code",
   "execution_count": null,
   "metadata": {
    "cellView": "form",
    "id": "oOggJBe6W5nF"
   },
   "outputs": [],
   "source": [
    "#@title Licensed under the Apache License, Version 2.0 (the \"License\");\n",
    "# you may not use this file except in compliance with the License.\n",
    "# You may obtain a copy of the License at\n",
    "#\n",
    "# https://www.apache.org/licenses/LICENSE-2.0\n",
    "#\n",
    "# Unless required by applicable law or agreed to in writing, software\n",
    "# distributed under the License is distributed on an \"AS IS\" BASIS,\n",
    "# WITHOUT WARRANTIES OR CONDITIONS OF ANY KIND, either express or implied.\n",
    "# See the License for the specific language governing permissions and\n",
    "# limitations under the License."
   ]
  },
  {
   "cell_type": "markdown",
   "metadata": {
    "id": "9UinLMKSWRkA"
   },
   "source": [
    "# Quantum circuits on Rigetti devices"
   ]
  },
  {
   "cell_type": "markdown",
   "metadata": {
    "id": "8jnX4ti8W6Lg"
   },
   "source": [
    "<table class=\"tfo-notebook-buttons\" align=\"left\">\n",
    "  <td>\n",
    "    <a target=\"_blank\" href=\"https://quantumai.google/cirq/tutorials/rigetti/getting_started\"><img src=\"https://quantumai.google/site-assets/images/buttons/quantumai_logo_1x.png\" />View on QuantumAI</a>\n",
    "  </td>\n",
    "  <td>\n",
    "    <a target=\"_blank\" href=\"https://colab.research.google.com/github/quantumlib/Cirq/blob/master/docs/tutorials/rigetti/getting_started.ipynb\"><img src=\"https://quantumai.google/site-assets/images/buttons/colab_logo_1x.png\" />Run in Google Colab</a>\n",
    "  </td>\n",
    "  <td>\n",
    "    <a target=\"_blank\" href=\"https://github.com/quantumlib/Cirq/blob/master/docs/tutorials/rigetti/getting_started.ipynb\"><img src=\"https://quantumai.google/site-assets/images/buttons/github_logo_1x.png\" />View source on GitHub</a>\n",
    "  </td>\n",
    "  <td>\n",
    "    <a href=\"https://storage.googleapis.com/tensorflow_docs/Cirq/docs/tutorials/rigetti/getting_started.ipynb\"><img src=\"https://quantumai.google/site-assets/images/buttons/download_icon_1x.png\" />Download notebook</a>\n",
    "  </td>\n",
    "</table>"
   ]
  },
  {
   "cell_type": "code",
   "execution_count": null,
   "metadata": {
    "id": "bd9529db1c0b"
   },
   "outputs": [],
   "source": [
    "try:\n",
    "    import cirq\n",
    "except ImportError:\n",
    "    print(\"installing cirq...\")\n",
    "    !pip install --quiet cirq\n",
    "    print(\"installed cirq.\")\n",
    "    import cirq"
   ]
  },
  {
   "cell_type": "markdown",
   "metadata": {
    "id": "jApPwKwJZ76B"
   },
   "source": [
    "Running this notebook requires the pyQuil QVM and Compiler. If you are running on Google Colab or a Linux Debian machine, you can run the below cell to install them if necessary. If you are on a non-Linux Debian machine, see [these instructions](https://pyquil-docs.rigetti.com/en/stable/start.html#downloading-the-qvm-and-compiler){:.external} for installation."
   ]
  },
  {
   "cell_type": "code",
   "execution_count": null,
   "metadata": {
    "id": "8Jr6CdheZ76C"
   },
   "outputs": [],
   "source": [
    "! [ -z \"$(which qvm)\" ] &&\\\n",
    "  apt update &&\\\n",
    "  apt install jq &&\\\n",
    "  export LATEST_FOREST_SDK_VERSION=$(curl -s https://downloads.rigetti.com/qcs-sdk/versions | jq -r '.versions[0].sdk') &&\\\n",
    "  curl -f https://downloads.rigetti.com/qcs-sdk/forest-sdk-$LATEST_FOREST_SDK_VERSION-linux-deb.tar.bz2 -o $PWD/forest-sdk-$LATEST_FOREST_SDK_VERSION-linux-deb.tar.bz2 &&\\\n",
    "  tar -xf forest-sdk-$LATEST_FOREST_SDK_VERSION-linux-deb.tar.bz2 &&\\\n",
    "  ./forest-sdk-$LATEST_FOREST_SDK_VERSION-linux-deb/forest-sdk-$LATEST_FOREST_SDK_VERSION-linux-deb.run &&\\\n",
    "  quilc --version &&\\\n",
    "  qvm --version"
   ]
  },
  {
   "cell_type": "markdown",
   "metadata": {
    "id": "nXKo2957aEEx"
   },
   "source": [
    "Next, run the pyQuil QVM and Compiler if they are not already running on their default ports."
   ]
  },
  {
   "cell_type": "code",
   "execution_count": null,
   "metadata": {
    "id": "h2KPdYw1Z76D"
   },
   "outputs": [],
   "source": [
    "import subprocess\n",
    "\n",
    "subprocess.Popen([\"qvm\", \"--quiet\", \"-S\"])\n",
    "subprocess.Popen([\"quilc\", \"--quiet\", \"-R\"])"
   ]
  },
  {
   "cell_type": "markdown",
   "metadata": {
    "id": "7e4ac20b52e4"
   },
   "source": [
    "# Running a Bell state circuit\n",
    "\n",
    "To demonstrate the basic functionality of the Cirq Rigetti integration, we begin constructing a basic Bell state circuit."
   ]
  },
  {
   "cell_type": "code",
   "execution_count": null,
   "metadata": {
    "id": "5fc3c30fb03e"
   },
   "outputs": [],
   "source": [
    "bell_circuit = cirq.Circuit()\n",
    "qubits = cirq.LineQubit.range(2)\n",
    "bell_circuit.append(cirq.H(qubits[0]))\n",
    "bell_circuit.append(cirq.CNOT(qubits[0], qubits[1]))\n",
    "bell_circuit.append(cirq.measure(qubits[0], qubits[1], key='m'))\n",
    "print(bell_circuit)"
   ]
  },
  {
   "cell_type": "markdown",
   "metadata": {
    "id": "fe7b4a94c8d6"
   },
   "source": [
    "Next, we'll import `RigettiQCSService` and list available quantum processors."
   ]
  },
  {
   "cell_type": "code",
   "execution_count": null,
   "metadata": {
    "id": "952d063c5cf1"
   },
   "outputs": [],
   "source": [
    "from cirq_rigetti import RigettiQCSService\n",
    "\n",
    "quantum_processors = RigettiQCSService.list_quantum_processors().quantum_processors\n",
    "processors_list = [quantum_processor.id for quantum_processor in quantum_processors]\n",
    "print(processors_list)"
   ]
  },
  {
   "cell_type": "markdown",
   "metadata": {
    "id": "d36372ac05aa"
   },
   "source": [
    "For now, we'll instantiate the `RigettiQCSService` as a pyQuil [Quantum Virtual Machine](https://docs.rigetti.com/qcs/references/qvm){:.external} based on the topology of one of the available Rigetti quantum processors. At the time of this writing, `Aspen-11` is available.\n",
    "\n",
    "Note, in addition to the quantum processors listed above, you can also instantiate the `RigettiQCSService` by naming an arbitrary virtual device the pyQuil QVM supports. See the documentation for pyquil [get_qc](https://pyquil-docs.rigetti.com/en/stable/apidocs/pyquil.api.html#pyquil.api.get_qc){:.external} for more information. "
   ]
  },
  {
   "cell_type": "code",
   "execution_count": null,
   "metadata": {
    "id": "e814a6986f88"
   },
   "outputs": [],
   "source": [
    "from cirq_rigetti import circuit_transformers, circuit_sweep_executors, get_rigetti_qcs_service\n",
    "\n",
    "SERVICE_NAME = processors_list[0]\n",
    "print(SERVICE_NAME)\n",
    "service = get_rigetti_qcs_service(SERVICE_NAME, as_qvm=True, noisy=False)\n",
    "result = service.run(bell_circuit, repetitions=1000)\n",
    "\n",
    "print(result.histogram(key='m'))"
   ]
  },
  {
   "cell_type": "markdown",
   "metadata": {
    "id": "e1b4702074dc"
   },
   "source": [
    "We'll use the built-in `cirq.plot_state_histogram` to visually verify the results of our Bell state."
   ]
  },
  {
   "cell_type": "code",
   "execution_count": null,
   "metadata": {
    "id": "01da874989f1"
   },
   "outputs": [],
   "source": [
    "cirq.plot_state_histogram(result.histogram(key='m'))    "
   ]
  },
  {
   "cell_type": "markdown",
   "metadata": {
    "id": "a67480865446"
   },
   "source": [
    "As expected, we see states 0 (ie '00') and 3 (ie '11') as the dominant results.\n",
    "\n",
    "You may initialize both the `RigettiQCSService` and `RigettiQCSSampler` with execution functions from the `cirq_rigetti.circuit_sweep_executor` module and transformation functions from `cirq_rigetti.circuit_transformations`.\n",
    "\n",
    "You may invoke these functions with arguments for controlling your circuit execution at a more fine grained level. For instance, you may want add [Pragma statements](https://pyquil-docs.rigetti.com/en/stable/compiler.html#region-specific-compiler-features-through-pragma){:.external} to set the [initial rewiring](https://pyquil-docs.rigetti.com/en/stable/compiler.html#initial-rewiring){:.external} strategy, invoke [active qubit reset](https://arxiv.org/abs/2001.04449){:.external} prior to execution, or explicitly address physical qubits on the quantum computer."
   ]
  },
  {
   "cell_type": "code",
   "execution_count": null,
   "metadata": {
    "id": "ec8335f28b75"
   },
   "outputs": [],
   "source": [
    "from pyquil.quilbase import Reset, Pragma\n",
    "\n",
    "def hook(program, measurement_id_map):\n",
    "    program._instructions.insert(0, Reset())\n",
    "    program._instructions.insert(1, Pragma('INITIAL_REWIRING', freeform_string='GREEDY'))\n",
    "    print(program)\n",
    "    return program, measurement_id_map\n",
    "\n",
    "# assign qubits explicitly to hardware or virtual machine qubits.\n",
    "qubit_id_map = {\n",
    "   qubits[0]: 4,\n",
    "   qubits[1]: 5,\n",
    "}\n",
    "executor = circuit_sweep_executors.with_quilc_compilation_and_cirq_parameter_resolution\n",
    "transformer = circuit_transformers.build(qubit_id_map=qubit_id_map, qubits=qubits, post_transformation_hooks=[hook])\n",
    "service = get_rigetti_qcs_service(SERVICE_NAME, as_qvm=True, executor=executor, transformer=transformer)\n",
    "result = service.run(bell_circuit, repetitions=1000)\n",
    "\n",
    "cirq.plot_state_histogram(result.histogram(key='m'))"
   ]
  },
  {
   "cell_type": "markdown",
   "metadata": {
    "id": "63a5382dc703"
   },
   "source": [
    "# Running a parameterized circuit\n",
    "\n",
    "Of course, you may be running a parameterized circuit and would like to leverage the [Quil compilers](https://pyquil-docs.rigetti.com/en/stable/compiler.html){:.external} support for parametric compilation. This affords a speedup in execution times as the Cirq Rigetti integration will only compile the circuit once for a single parameter sweep.\n",
    "\n",
    "We start by initializing the `RigettiQCSSampler` and specifying a circuit sweep executor that supports parametric compilation. Note, that this class accepts the same `executor` and `transformer` types as `RigettiQCSService`."
   ]
  },
  {
   "cell_type": "code",
   "execution_count": null,
   "metadata": {
    "id": "58580fce0973"
   },
   "outputs": [],
   "source": [
    "from cirq_rigetti import get_rigetti_qcs_sampler\n",
    "\n",
    "executor = circuit_sweep_executors.with_quilc_parametric_compilation\n",
    "sampler = get_rigetti_qcs_sampler(SERVICE_NAME, as_qvm=True, executor=executor)"
   ]
  },
  {
   "cell_type": "markdown",
   "metadata": {
    "id": "64190bcafd2c"
   },
   "source": [
    "Next, we will initialize a parameterized circuit in Cirq along with a set of parameter values."
   ]
  },
  {
   "cell_type": "code",
   "execution_count": null,
   "metadata": {
    "id": "566e68350c37"
   },
   "outputs": [],
   "source": [
    "import sympy\n",
    "\n",
    "qubit = cirq.LineQubit.range(1)[0]\n",
    "\n",
    "circuit = cirq.Circuit(\n",
    "    cirq.H(qubit)**sympy.Symbol('t'),\n",
    "    cirq.measure(qubit, key='m'))\n",
    "params = cirq.Linspace('t', start=0, stop=4, length=5)\n",
    "\n",
    "print(circuit)"
   ]
  },
  {
   "cell_type": "markdown",
   "metadata": {
    "id": "27c27f8eca4a"
   },
   "source": [
    "In much the same way that we invoke, `RigettiQCSSerivce.run`, we invoke `RigettiQCSSampler.run_sweep` with our parameters here."
   ]
  },
  {
   "cell_type": "code",
   "execution_count": null,
   "metadata": {
    "id": "f0b7ac7a63b5"
   },
   "outputs": [],
   "source": [
    "import pandas as pd\n",
    "\n",
    "results = sampler.run_sweep(circuit, params, repetitions=10)\n",
    "data = {f't={result.params[\"t\"]}': [measurement[0] for measurement in result.measurements['m']] for result in results}\n",
    "\n",
    "pd.DataFrame(data)"
   ]
  }
 ],
 "metadata": {
  "colab": {
   "collapsed_sections": [],
   "name": "getting_started.ipynb",
   "toc_visible": true
  },
  "kernelspec": {
   "display_name": "Python 3",
   "name": "python3"
  }
 },
 "nbformat": 4,
 "nbformat_minor": 0
}
